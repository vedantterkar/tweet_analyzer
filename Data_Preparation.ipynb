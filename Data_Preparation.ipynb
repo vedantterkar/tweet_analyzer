{
 "cells": [
  {
   "cell_type": "markdown",
   "metadata": {},
   "source": [
    "## Data Preparation\n",
    "\n",
    "* Read Data From Various Sources and Combine it\n",
    "* Shuffle The Data To Randomize it\n",
    "* Clean The Data\n",
    "* Identify important Feature of Data\n",
    "* Categorize Data\n",
    "* Save Data for future references"
   ]
  },
  {
   "cell_type": "markdown",
   "metadata": {},
   "source": [
    "### Read Data From various Sources and combine It"
   ]
  },
  {
   "cell_type": "code",
   "execution_count": 1,
   "metadata": {},
   "outputs": [
    {
     "data": {
      "text/plain": [
       "10499"
      ]
     },
     "execution_count": 1,
     "metadata": {},
     "output_type": "execute_result"
    }
   ],
   "source": [
    "import pandas as pd\n",
    "from textblob import TextBlob\n",
    "import re, string\n",
    "\n",
    "\n",
    "tweets = pd.read_json(\"data/happy_tweets.json\")\n",
    "tweets = tweets.append(pd.read_json(\"data/happy_tweets1.json\"))\n",
    "tweets = tweets.append(pd.read_json(\"data/happy_tweets2.json\"))\n",
    "tweets = tweets.append(pd.read_json(\"data/happy_tweets3.json\"))\n",
    "tweets = tweets.append(pd.read_json(\"data/sad_tweets.json\"))\n",
    "tweets = tweets.append(pd.read_json(\"data/sad_tweets1.json\"))\n",
    "tweets = tweets.append(pd.read_json(\"data/sad_tweets2.json\"))\n",
    "tweets = tweets.append(pd.read_json(\"data/sad_tweets3.json\"))\n",
    "tweets = tweets.append(pd.read_json(\"data/sad_tweets4.json\"))\n",
    "tweets = tweets.append(pd.read_json(\"data/sad_user_tweets.json\"))\n",
    "tweets = tweets.append(pd.read_json(\"data/sad_user_tweets1.json\"))\n",
    "tweets = tweets.append(pd.read_json(\"data/sad_user_tweets2.json\"))\n",
    "tweets = tweets.append(pd.read_json(\"data/sad_user_tweets3.json\"))\n",
    "tweets = tweets.append(pd.read_json(\"data/sad_user_tweets4.json\"))\n",
    "tweets = tweets.append(pd.read_json(\"data/sad_user_tweets5.json\"))\n",
    "len(tweets)"
   ]
  },
  {
   "cell_type": "markdown",
   "metadata": {},
   "source": [
    "## See What is inside our data"
   ]
  },
  {
   "cell_type": "code",
   "execution_count": 2,
   "metadata": {},
   "outputs": [
    {
     "data": {
      "text/html": [
       "<div>\n",
       "<style scoped>\n",
       "    .dataframe tbody tr th:only-of-type {\n",
       "        vertical-align: middle;\n",
       "    }\n",
       "\n",
       "    .dataframe tbody tr th {\n",
       "        vertical-align: top;\n",
       "    }\n",
       "\n",
       "    .dataframe thead th {\n",
       "        text-align: right;\n",
       "    }\n",
       "</style>\n",
       "<table border=\"1\" class=\"dataframe\">\n",
       "  <thead>\n",
       "    <tr style=\"text-align: right;\">\n",
       "      <th></th>\n",
       "      <th>has_media</th>\n",
       "      <th>hashtags</th>\n",
       "      <th>img_urls</th>\n",
       "      <th>is_replied</th>\n",
       "      <th>is_reply_to</th>\n",
       "      <th>likes</th>\n",
       "      <th>links</th>\n",
       "      <th>parent_tweet_id</th>\n",
       "      <th>replies</th>\n",
       "      <th>reply_to_users</th>\n",
       "      <th>...</th>\n",
       "      <th>screen_name</th>\n",
       "      <th>text</th>\n",
       "      <th>text_html</th>\n",
       "      <th>timestamp</th>\n",
       "      <th>timestamp_epochs</th>\n",
       "      <th>tweet_id</th>\n",
       "      <th>tweet_url</th>\n",
       "      <th>user_id</th>\n",
       "      <th>username</th>\n",
       "      <th>video_url</th>\n",
       "    </tr>\n",
       "  </thead>\n",
       "  <tbody>\n",
       "    <tr>\n",
       "      <th>0</th>\n",
       "      <td>False</td>\n",
       "      <td>[]</td>\n",
       "      <td>[]</td>\n",
       "      <td>False</td>\n",
       "      <td>False</td>\n",
       "      <td>0</td>\n",
       "      <td>[]</td>\n",
       "      <td></td>\n",
       "      <td>0</td>\n",
       "      <td>[]</td>\n",
       "      <td>...</td>\n",
       "      <td>Leftsider</td>\n",
       "      <td>doesn't know whether to be happy or sad. it's ...</td>\n",
       "      <td>&lt;p class=\"TweetTextSize js-tweet-text tweet-te...</td>\n",
       "      <td>2006-12-01 13:21:17</td>\n",
       "      <td>2006-12-01 13:21:17</td>\n",
       "      <td>521043</td>\n",
       "      <td>/Leftsider/status/521043</td>\n",
       "      <td>3796</td>\n",
       "      <td>leftsider</td>\n",
       "      <td></td>\n",
       "    </tr>\n",
       "    <tr>\n",
       "      <th>1</th>\n",
       "      <td>False</td>\n",
       "      <td>[]</td>\n",
       "      <td>[]</td>\n",
       "      <td>False</td>\n",
       "      <td>False</td>\n",
       "      <td>0</td>\n",
       "      <td>[]</td>\n",
       "      <td></td>\n",
       "      <td>0</td>\n",
       "      <td>[]</td>\n",
       "      <td>...</td>\n",
       "      <td>danrubin</td>\n",
       "      <td>wistfully dreams of living in a city where dri...</td>\n",
       "      <td>&lt;p class=\"TweetTextSize js-tweet-text tweet-te...</td>\n",
       "      <td>2006-12-01 04:41:22</td>\n",
       "      <td>2006-12-01 04:41:22</td>\n",
       "      <td>510843</td>\n",
       "      <td>/danrubin/status/510843</td>\n",
       "      <td>12741</td>\n",
       "      <td>Dan Rubin</td>\n",
       "      <td></td>\n",
       "    </tr>\n",
       "    <tr>\n",
       "      <th>2</th>\n",
       "      <td>False</td>\n",
       "      <td>[]</td>\n",
       "      <td>[]</td>\n",
       "      <td>False</td>\n",
       "      <td>False</td>\n",
       "      <td>0</td>\n",
       "      <td>[]</td>\n",
       "      <td></td>\n",
       "      <td>0</td>\n",
       "      <td>[]</td>\n",
       "      <td>...</td>\n",
       "      <td>JimCallender</td>\n",
       "      <td>who knows maybe Twitter will have a impromptu ...</td>\n",
       "      <td>&lt;p class=\"TweetTextSize js-tweet-text tweet-te...</td>\n",
       "      <td>2006-11-22 16:22:28</td>\n",
       "      <td>2006-11-22 16:22:28</td>\n",
       "      <td>101453</td>\n",
       "      <td>/JimCallender/status/101453</td>\n",
       "      <td>12854</td>\n",
       "      <td>Jim Callender</td>\n",
       "      <td></td>\n",
       "    </tr>\n",
       "    <tr>\n",
       "      <th>3</th>\n",
       "      <td>False</td>\n",
       "      <td>[]</td>\n",
       "      <td>[]</td>\n",
       "      <td>False</td>\n",
       "      <td>False</td>\n",
       "      <td>0</td>\n",
       "      <td>[]</td>\n",
       "      <td></td>\n",
       "      <td>0</td>\n",
       "      <td>[]</td>\n",
       "      <td>...</td>\n",
       "      <td>nicole</td>\n",
       "      <td>Is that salami in your pocket or are you just ...</td>\n",
       "      <td>&lt;p class=\"TweetTextSize js-tweet-text tweet-te...</td>\n",
       "      <td>2006-11-21 01:32:24</td>\n",
       "      <td>2006-11-21 01:32:24</td>\n",
       "      <td>78079</td>\n",
       "      <td>/nicole/status/78079</td>\n",
       "      <td>12773</td>\n",
       "      <td>Nicole Lee</td>\n",
       "      <td></td>\n",
       "    </tr>\n",
       "    <tr>\n",
       "      <th>4</th>\n",
       "      <td>False</td>\n",
       "      <td>[]</td>\n",
       "      <td>[]</td>\n",
       "      <td>False</td>\n",
       "      <td>False</td>\n",
       "      <td>0</td>\n",
       "      <td>[]</td>\n",
       "      <td></td>\n",
       "      <td>0</td>\n",
       "      <td>[]</td>\n",
       "      <td>...</td>\n",
       "      <td>MetaGrrrl</td>\n",
       "      <td>When I'm happy I often hum \"Minnie the Moocher...</td>\n",
       "      <td>&lt;p class=\"TweetTextSize js-tweet-text tweet-te...</td>\n",
       "      <td>2006-11-10 01:01:49</td>\n",
       "      <td>2006-11-10 01:01:49</td>\n",
       "      <td>61425</td>\n",
       "      <td>/MetaGrrrl/status/61425</td>\n",
       "      <td>6722</td>\n",
       "      <td>Dinah</td>\n",
       "      <td></td>\n",
       "    </tr>\n",
       "  </tbody>\n",
       "</table>\n",
       "<p>5 rows × 21 columns</p>\n",
       "</div>"
      ],
      "text/plain": [
       "   has_media hashtags img_urls  is_replied  is_reply_to  likes links  \\\n",
       "0      False       []       []       False        False      0    []   \n",
       "1      False       []       []       False        False      0    []   \n",
       "2      False       []       []       False        False      0    []   \n",
       "3      False       []       []       False        False      0    []   \n",
       "4      False       []       []       False        False      0    []   \n",
       "\n",
       "  parent_tweet_id  replies reply_to_users  ...   screen_name  \\\n",
       "0                        0             []  ...     Leftsider   \n",
       "1                        0             []  ...      danrubin   \n",
       "2                        0             []  ...  JimCallender   \n",
       "3                        0             []  ...        nicole   \n",
       "4                        0             []  ...     MetaGrrrl   \n",
       "\n",
       "                                                text  \\\n",
       "0  doesn't know whether to be happy or sad. it's ...   \n",
       "1  wistfully dreams of living in a city where dri...   \n",
       "2  who knows maybe Twitter will have a impromptu ...   \n",
       "3  Is that salami in your pocket or are you just ...   \n",
       "4  When I'm happy I often hum \"Minnie the Moocher...   \n",
       "\n",
       "                                           text_html           timestamp  \\\n",
       "0  <p class=\"TweetTextSize js-tweet-text tweet-te... 2006-12-01 13:21:17   \n",
       "1  <p class=\"TweetTextSize js-tweet-text tweet-te... 2006-12-01 04:41:22   \n",
       "2  <p class=\"TweetTextSize js-tweet-text tweet-te... 2006-11-22 16:22:28   \n",
       "3  <p class=\"TweetTextSize js-tweet-text tweet-te... 2006-11-21 01:32:24   \n",
       "4  <p class=\"TweetTextSize js-tweet-text tweet-te... 2006-11-10 01:01:49   \n",
       "\n",
       "     timestamp_epochs tweet_id                    tweet_url user_id  \\\n",
       "0 2006-12-01 13:21:17   521043     /Leftsider/status/521043    3796   \n",
       "1 2006-12-01 04:41:22   510843      /danrubin/status/510843   12741   \n",
       "2 2006-11-22 16:22:28   101453  /JimCallender/status/101453   12854   \n",
       "3 2006-11-21 01:32:24    78079         /nicole/status/78079   12773   \n",
       "4 2006-11-10 01:01:49    61425      /MetaGrrrl/status/61425    6722   \n",
       "\n",
       "        username video_url  \n",
       "0      leftsider            \n",
       "1      Dan Rubin            \n",
       "2  Jim Callender            \n",
       "3     Nicole Lee            \n",
       "4          Dinah            \n",
       "\n",
       "[5 rows x 21 columns]"
      ]
     },
     "execution_count": 2,
     "metadata": {},
     "output_type": "execute_result"
    }
   ],
   "source": [
    "tweets.head()"
   ]
  },
  {
   "cell_type": "markdown",
   "metadata": {},
   "source": [
    "### Identify important feature from data"
   ]
  },
  {
   "cell_type": "code",
   "execution_count": 3,
   "metadata": {},
   "outputs": [
    {
     "data": {
      "text/plain": [
       "0    doesn't know whether to be happy or sad. it's ...\n",
       "1    wistfully dreams of living in a city where dri...\n",
       "2    who knows maybe Twitter will have a impromptu ...\n",
       "3    Is that salami in your pocket or are you just ...\n",
       "4    When I'm happy I often hum \"Minnie the Moocher...\n",
       "Name: text, dtype: object"
      ]
     },
     "execution_count": 3,
     "metadata": {},
     "output_type": "execute_result"
    }
   ],
   "source": [
    "tweets[\"text\"][:5]"
   ]
  },
  {
   "cell_type": "markdown",
   "metadata": {},
   "source": [
    "### Randomize/Shuffle the Data"
   ]
  },
  {
   "cell_type": "code",
   "execution_count": 4,
   "metadata": {},
   "outputs": [],
   "source": [
    "tweets = tweets.sample(frac=1).reset_index(drop=True)"
   ]
  },
  {
   "cell_type": "markdown",
   "metadata": {},
   "source": [
    "### Clean The Data"
   ]
  },
  {
   "cell_type": "code",
   "execution_count": 5,
   "metadata": {},
   "outputs": [
    {
     "data": {
      "text/html": [
       "<div>\n",
       "<style scoped>\n",
       "    .dataframe tbody tr th:only-of-type {\n",
       "        vertical-align: middle;\n",
       "    }\n",
       "\n",
       "    .dataframe tbody tr th {\n",
       "        vertical-align: top;\n",
       "    }\n",
       "\n",
       "    .dataframe thead th {\n",
       "        text-align: right;\n",
       "    }\n",
       "</style>\n",
       "<table border=\"1\" class=\"dataframe\">\n",
       "  <thead>\n",
       "    <tr style=\"text-align: right;\">\n",
       "      <th></th>\n",
       "      <th>text</th>\n",
       "    </tr>\n",
       "  </thead>\n",
       "  <tbody>\n",
       "    <tr>\n",
       "      <th>0</th>\n",
       "      <td>Sooner you stop wondering what happened or cou...</td>\n",
       "    </tr>\n",
       "    <tr>\n",
       "      <th>1</th>\n",
       "      <td>Are you happy or sad about no more bike week?</td>\n",
       "    </tr>\n",
       "    <tr>\n",
       "      <th>2</th>\n",
       "      <td>To try and find the light in the dark sucks......</td>\n",
       "    </tr>\n",
       "    <tr>\n",
       "      <th>3</th>\n",
       "      <td>Someone text me or something #sad</td>\n",
       "    </tr>\n",
       "    <tr>\n",
       "      <th>4</th>\n",
       "      <td>K\"@Amby_FLEX: Just observed that twitter kinda...</td>\n",
       "    </tr>\n",
       "  </tbody>\n",
       "</table>\n",
       "</div>"
      ],
      "text/plain": [
       "                                                text\n",
       "0  Sooner you stop wondering what happened or cou...\n",
       "1      Are you happy or sad about no more bike week?\n",
       "2  To try and find the light in the dark sucks......\n",
       "3                  Someone text me or something #sad\n",
       "4  K\"@Amby_FLEX: Just observed that twitter kinda..."
      ]
     },
     "execution_count": 5,
     "metadata": {},
     "output_type": "execute_result"
    }
   ],
   "source": [
    "tweets = tweets[[\"text\"]]\n",
    "tweets.head()"
   ]
  },
  {
   "cell_type": "markdown",
   "metadata": {},
   "source": [
    "### Categorize The Data "
   ]
  },
  {
   "cell_type": "code",
   "execution_count": 6,
   "metadata": {},
   "outputs": [],
   "source": [
    "tweets['target'] = tweets.apply(lambda x: (1 if TextBlob(x[\"text\"]).sentiment.polarity > 0.5 else ( -1 if TextBlob(x[\"text\"]).sentiment.polarity < -0.5 else 0)), axis=1)\n",
    "\n",
    "\n",
    "happy_tweets = tweets[tweets[\"target\"] > 0][:1090]\n",
    "neutral_tweets = tweets[tweets[\"target\"] == 0][:1005]\n",
    "sad_tweets = tweets[tweets[\"target\"] < 0]\n",
    "\n",
    "\n",
    "tweets = happy_tweets\n",
    "tweets = tweets.append(sad_tweets)\n",
    "tweets = tweets.append(neutral_tweets)\n",
    "tweets = tweets.append(sad_tweets)\n",
    "tweets = tweets.sample(frac=1).reset_index(drop=True)"
   ]
  },
  {
   "cell_type": "code",
   "execution_count": 7,
   "metadata": {},
   "outputs": [
    {
     "data": {
      "text/html": [
       "<div>\n",
       "<style scoped>\n",
       "    .dataframe tbody tr th:only-of-type {\n",
       "        vertical-align: middle;\n",
       "    }\n",
       "\n",
       "    .dataframe tbody tr th {\n",
       "        vertical-align: top;\n",
       "    }\n",
       "\n",
       "    .dataframe thead th {\n",
       "        text-align: right;\n",
       "    }\n",
       "</style>\n",
       "<table border=\"1\" class=\"dataframe\">\n",
       "  <thead>\n",
       "    <tr style=\"text-align: right;\">\n",
       "      <th></th>\n",
       "      <th>text</th>\n",
       "      <th>target</th>\n",
       "    </tr>\n",
       "  </thead>\n",
       "  <tbody>\n",
       "    <tr>\n",
       "      <th>0</th>\n",
       "      <td>Why am I a stupid fucking boy? God I'm laying ...</td>\n",
       "      <td>-1</td>\n",
       "    </tr>\n",
       "    <tr>\n",
       "      <th>1</th>\n",
       "      <td>#RealTweet........RT @Hustle_Simmonz: #MyFavor...</td>\n",
       "      <td>1</td>\n",
       "    </tr>\n",
       "    <tr>\n",
       "      <th>2</th>\n",
       "      <td>practiving faces for recital pictures tonight ...</td>\n",
       "      <td>1</td>\n",
       "    </tr>\n",
       "    <tr>\n",
       "      <th>3</th>\n",
       "      <td>BEYONCÉ JUST BLEW MY MIND. THAT WAS INCREDIBLE...</td>\n",
       "      <td>1</td>\n",
       "    </tr>\n",
       "    <tr>\n",
       "      <th>4</th>\n",
       "      <td>how am i supposed to distance myself from myse...</td>\n",
       "      <td>1</td>\n",
       "    </tr>\n",
       "    <tr>\n",
       "      <th>...</th>\n",
       "      <td>...</td>\n",
       "      <td>...</td>\n",
       "    </tr>\n",
       "    <tr>\n",
       "      <th>3100</th>\n",
       "      <td>\"Fortunately, you'll be happy to know--or mayb...</td>\n",
       "      <td>1</td>\n",
       "    </tr>\n",
       "    <tr>\n",
       "      <th>3101</th>\n",
       "      <td>In itself, sadness or “grief is God’s gift to ...</td>\n",
       "      <td>-1</td>\n",
       "    </tr>\n",
       "    <tr>\n",
       "      <th>3102</th>\n",
       "      <td>If it ain't making me money, making me better ...</td>\n",
       "      <td>1</td>\n",
       "    </tr>\n",
       "    <tr>\n",
       "      <th>3103</th>\n",
       "      <td>@DanaPerino Happy B-Day Jasper, Looking good f...</td>\n",
       "      <td>1</td>\n",
       "    </tr>\n",
       "    <tr>\n",
       "      <th>3104</th>\n",
       "      <td>#make #money #problems or #Enjoy #Happy #MAKE ...</td>\n",
       "      <td>1</td>\n",
       "    </tr>\n",
       "  </tbody>\n",
       "</table>\n",
       "<p>3105 rows × 2 columns</p>\n",
       "</div>"
      ],
      "text/plain": [
       "                                                   text  target\n",
       "0     Why am I a stupid fucking boy? God I'm laying ...      -1\n",
       "1     #RealTweet........RT @Hustle_Simmonz: #MyFavor...       1\n",
       "2     practiving faces for recital pictures tonight ...       1\n",
       "3     BEYONCÉ JUST BLEW MY MIND. THAT WAS INCREDIBLE...       1\n",
       "4     how am i supposed to distance myself from myse...       1\n",
       "...                                                 ...     ...\n",
       "3100  \"Fortunately, you'll be happy to know--or mayb...       1\n",
       "3101  In itself, sadness or “grief is God’s gift to ...      -1\n",
       "3102  If it ain't making me money, making me better ...       1\n",
       "3103  @DanaPerino Happy B-Day Jasper, Looking good f...       1\n",
       "3104  #make #money #problems or #Enjoy #Happy #MAKE ...       1\n",
       "\n",
       "[3105 rows x 2 columns]"
      ]
     },
     "execution_count": 7,
     "metadata": {},
     "output_type": "execute_result"
    }
   ],
   "source": [
    "tweets"
   ]
  },
  {
   "cell_type": "code",
   "execution_count": 8,
   "metadata": {},
   "outputs": [
    {
     "data": {
      "text/plain": [
       "'#RealTweet........RT @Hustle_Simmonz: #MyFavoriteQuotes a man in a relationship can be 1 of 2 things... Happy or right... Never both'"
      ]
     },
     "execution_count": 8,
     "metadata": {},
     "output_type": "execute_result"
    }
   ],
   "source": [
    "tweets[\"text\"][1]"
   ]
  },
  {
   "cell_type": "markdown",
   "metadata": {},
   "source": [
    "### Save The Data For Future Reference"
   ]
  },
  {
   "cell_type": "code",
   "execution_count": 9,
   "metadata": {},
   "outputs": [
    {
     "data": {
      "text/plain": [
       "3105"
      ]
     },
     "execution_count": 9,
     "metadata": {},
     "output_type": "execute_result"
    }
   ],
   "source": [
    "len(tweets)"
   ]
  },
  {
   "cell_type": "code",
   "execution_count": 10,
   "metadata": {},
   "outputs": [],
   "source": [
    "tweets.to_json(\"data/preparedtweets.json\")"
   ]
  },
  {
   "cell_type": "code",
   "execution_count": null,
   "metadata": {},
   "outputs": [],
   "source": []
  }
 ],
 "metadata": {
  "kernelspec": {
   "display_name": "Python 3",
   "language": "python",
   "name": "python3"
  },
  "language_info": {
   "codemirror_mode": {
    "name": "ipython",
    "version": 3
   },
   "file_extension": ".py",
   "mimetype": "text/x-python",
   "name": "python",
   "nbconvert_exporter": "python",
   "pygments_lexer": "ipython3",
   "version": "3.8.2"
  }
 },
 "nbformat": 4,
 "nbformat_minor": 4
}
