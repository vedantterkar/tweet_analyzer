{
 "cells": [
  {
   "cell_type": "markdown",
   "metadata": {},
   "source": [
    "## Data Modeling\n",
    "* Read the data\n",
    "* separate the features and labels\n",
    "* Split traning and Testing Data\n",
    "* Choose a Model\n",
    "* Train it \n",
    "* Test Model\n",
    "* Evaluate Models on Training Data\n",
    "* Visualize the results\n",
    "* Save Most Effective One"
   ]
  },
  {
   "cell_type": "code",
   "execution_count": 1,
   "metadata": {},
   "outputs": [],
   "source": [
    "import pandas as pd\n",
    "import sklearn\n",
    "from sklearn.model_selection import train_test_split\n",
    "from sklearn.feature_extraction.text import CountVectorizer\n",
    "from sklearn.feature_extraction.text import TfidfTransformer"
   ]
  },
  {
   "cell_type": "markdown",
   "metadata": {},
   "source": [
    "### Read The Data"
   ]
  },
  {
   "cell_type": "code",
   "execution_count": 2,
   "metadata": {},
   "outputs": [
    {
     "data": {
      "text/html": [
       "<div>\n",
       "<style scoped>\n",
       "    .dataframe tbody tr th:only-of-type {\n",
       "        vertical-align: middle;\n",
       "    }\n",
       "\n",
       "    .dataframe tbody tr th {\n",
       "        vertical-align: top;\n",
       "    }\n",
       "\n",
       "    .dataframe thead th {\n",
       "        text-align: right;\n",
       "    }\n",
       "</style>\n",
       "<table border=\"1\" class=\"dataframe\">\n",
       "  <thead>\n",
       "    <tr style=\"text-align: right;\">\n",
       "      <th></th>\n",
       "      <th>text</th>\n",
       "      <th>target</th>\n",
       "    </tr>\n",
       "  </thead>\n",
       "  <tbody>\n",
       "    <tr>\n",
       "      <th>0</th>\n",
       "      <td>Why am I a stupid fucking boy? God I'm laying ...</td>\n",
       "      <td>-1</td>\n",
       "    </tr>\n",
       "    <tr>\n",
       "      <th>1</th>\n",
       "      <td>#RealTweet........RT @Hustle_Simmonz: #MyFavor...</td>\n",
       "      <td>1</td>\n",
       "    </tr>\n",
       "    <tr>\n",
       "      <th>2</th>\n",
       "      <td>practiving faces for recital pictures tonight ...</td>\n",
       "      <td>1</td>\n",
       "    </tr>\n",
       "    <tr>\n",
       "      <th>3</th>\n",
       "      <td>BEYONCÉ JUST BLEW MY MIND. THAT WAS INCREDIBLE...</td>\n",
       "      <td>1</td>\n",
       "    </tr>\n",
       "    <tr>\n",
       "      <th>4</th>\n",
       "      <td>how am i supposed to distance myself from myse...</td>\n",
       "      <td>1</td>\n",
       "    </tr>\n",
       "  </tbody>\n",
       "</table>\n",
       "</div>"
      ],
      "text/plain": [
       "                                                text  target\n",
       "0  Why am I a stupid fucking boy? God I'm laying ...      -1\n",
       "1  #RealTweet........RT @Hustle_Simmonz: #MyFavor...       1\n",
       "2  practiving faces for recital pictures tonight ...       1\n",
       "3  BEYONCÉ JUST BLEW MY MIND. THAT WAS INCREDIBLE...       1\n",
       "4  how am i supposed to distance myself from myse...       1"
      ]
     },
     "execution_count": 2,
     "metadata": {},
     "output_type": "execute_result"
    }
   ],
   "source": [
    "data = pd.read_json(\"data/preparedtweets.json\")\n",
    "data.head()"
   ]
  },
  {
   "cell_type": "markdown",
   "metadata": {},
   "source": [
    "### Separate Features and Labels"
   ]
  },
  {
   "cell_type": "code",
   "execution_count": 7,
   "metadata": {},
   "outputs": [
    {
     "data": {
      "text/plain": [
       "(0       Why am I a stupid fucking boy? God I'm laying ...\n",
       " 1       #RealTweet........RT @Hustle_Simmonz: #MyFavor...\n",
       " 2       practiving faces for recital pictures tonight ...\n",
       " 3       BEYONCÉ JUST BLEW MY MIND. THAT WAS INCREDIBLE...\n",
       " 4       how am i supposed to distance myself from myse...\n",
       "                               ...                        \n",
       " 3100    \"Fortunately, you'll be happy to know--or mayb...\n",
       " 3101    In itself, sadness or “grief is God’s gift to ...\n",
       " 3102    If it ain't making me money, making me better ...\n",
       " 3103    @DanaPerino Happy B-Day Jasper, Looking good f...\n",
       " 3104    #make #money #problems or #Enjoy #Happy #MAKE ...\n",
       " Name: text, Length: 3105, dtype: object,\n",
       " 0      -1\n",
       " 1       1\n",
       " 2       1\n",
       " 3       1\n",
       " 4       1\n",
       "        ..\n",
       " 3100    1\n",
       " 3101   -1\n",
       " 3102    1\n",
       " 3103    1\n",
       " 3104    1\n",
       " Name: target, Length: 3105, dtype: int64)"
      ]
     },
     "execution_count": 7,
     "metadata": {},
     "output_type": "execute_result"
    }
   ],
   "source": [
    "# Features\n",
    "X = data[\"text\"]\n",
    "# Labels\n",
    "y = data[\"target\"]\n",
    "X, y"
   ]
  },
  {
   "cell_type": "markdown",
   "metadata": {},
   "source": [
    "### Extract Text Feature to Train Model"
   ]
  },
  {
   "cell_type": "code",
   "execution_count": 8,
   "metadata": {},
   "outputs": [
    {
     "data": {
      "text/plain": [
       "((3105, 7198), (3105, 7198))"
      ]
     },
     "execution_count": 8,
     "metadata": {},
     "output_type": "execute_result"
    }
   ],
   "source": [
    "count_vect = CountVectorizer()\n",
    "X_counts = count_vect.fit_transform(X)\n",
    "tfidf_transformer = TfidfTransformer()\n",
    "X_tfidf = tfidf_transformer.fit_transform(X_counts)\n",
    "\n",
    "X_counts.shape, X_tfidf.shape"
   ]
  },
  {
   "cell_type": "markdown",
   "metadata": {},
   "source": [
    "### Split Traning and Testing Data"
   ]
  },
  {
   "cell_type": "code",
   "execution_count": 9,
   "metadata": {},
   "outputs": [
    {
     "data": {
      "text/plain": [
       "((2484, 7198), 2484)"
      ]
     },
     "execution_count": 9,
     "metadata": {},
     "output_type": "execute_result"
    }
   ],
   "source": [
    "Xtrain, Xtest, ytrain, ytest = train_test_split(X_tfidf, y, test_size = 0.20)\n",
    "Xtrain.shape, len(ytrain)"
   ]
  },
  {
   "cell_type": "markdown",
   "metadata": {},
   "source": [
    "### Choose A Model - 1\n",
    "* We choose Multinomial Naive Bayes Classifier"
   ]
  },
  {
   "cell_type": "code",
   "execution_count": 10,
   "metadata": {},
   "outputs": [],
   "source": [
    "from sklearn.naive_bayes import MultinomialNB"
   ]
  },
  {
   "cell_type": "markdown",
   "metadata": {},
   "source": [
    "### Train a Model"
   ]
  },
  {
   "cell_type": "code",
   "execution_count": 11,
   "metadata": {},
   "outputs": [],
   "source": [
    "model1 = MultinomialNB()\n",
    "model1.fit(Xtrain, ytrain);"
   ]
  },
  {
   "cell_type": "markdown",
   "metadata": {},
   "source": [
    "### Make a Prediction"
   ]
  },
  {
   "cell_type": "code",
   "execution_count": 12,
   "metadata": {},
   "outputs": [
    {
     "data": {
      "text/plain": [
       "array([[9.22927617e-01, 7.68572240e-02, 2.15159491e-04]])"
      ]
     },
     "execution_count": 12,
     "metadata": {},
     "output_type": "execute_result"
    }
   ],
   "source": [
    "model1.predict_proba(count_vect.transform([\"Sad Me #Sad #Depressed\"]))"
   ]
  },
  {
   "cell_type": "markdown",
   "metadata": {},
   "source": [
    "### Choose A Model - 2\n",
    "* We Now Choose Random Forest"
   ]
  },
  {
   "cell_type": "code",
   "execution_count": 13,
   "metadata": {},
   "outputs": [],
   "source": [
    "from sklearn.ensemble import RandomForestClassifier"
   ]
  },
  {
   "cell_type": "markdown",
   "metadata": {},
   "source": [
    "### Train a Model"
   ]
  },
  {
   "cell_type": "code",
   "execution_count": 14,
   "metadata": {},
   "outputs": [],
   "source": [
    "model2 = RandomForestClassifier(n_estimators=200, max_depth=3, random_state=0)\n",
    "model2.fit(Xtrain, ytrain);"
   ]
  },
  {
   "cell_type": "markdown",
   "metadata": {},
   "source": [
    "### Make a Prediction"
   ]
  },
  {
   "cell_type": "code",
   "execution_count": 15,
   "metadata": {},
   "outputs": [
    {
     "data": {
      "text/plain": [
       "array([[0.32395081, 0.3151738 , 0.36087539]])"
      ]
     },
     "execution_count": 15,
     "metadata": {},
     "output_type": "execute_result"
    }
   ],
   "source": [
    "model2.predict_proba(count_vect.transform([\"I'm really Happy today\"]))"
   ]
  },
  {
   "cell_type": "markdown",
   "metadata": {},
   "source": [
    "### Choose A Model - 3\n",
    "* We Now Chose Linear Support Vector Machine"
   ]
  },
  {
   "cell_type": "code",
   "execution_count": 16,
   "metadata": {},
   "outputs": [],
   "source": [
    "from sklearn.svm import LinearSVC"
   ]
  },
  {
   "cell_type": "markdown",
   "metadata": {},
   "source": [
    "### Train a Model"
   ]
  },
  {
   "cell_type": "code",
   "execution_count": 17,
   "metadata": {},
   "outputs": [],
   "source": [
    "model3 =  LinearSVC()\n",
    "model3.fit(Xtrain, ytrain);"
   ]
  },
  {
   "cell_type": "markdown",
   "metadata": {},
   "source": [
    "### Make a prediction"
   ]
  },
  {
   "cell_type": "code",
   "execution_count": 18,
   "metadata": {},
   "outputs": [
    {
     "data": {
      "text/plain": [
       "array([-1])"
      ]
     },
     "execution_count": 18,
     "metadata": {},
     "output_type": "execute_result"
    }
   ],
   "source": [
    "model3.predict(count_vect.transform([\"I'm Sad\"]))"
   ]
  },
  {
   "cell_type": "markdown",
   "metadata": {},
   "source": [
    "### Evaluate Each Score On Traning Data"
   ]
  },
  {
   "cell_type": "code",
   "execution_count": 19,
   "metadata": {},
   "outputs": [
    {
     "data": {
      "text/plain": [
       "(0.9472624798711755, 0.6284219001610306, 0.9955716586151369)"
      ]
     },
     "execution_count": 19,
     "metadata": {},
     "output_type": "execute_result"
    }
   ],
   "source": [
    "model1.score(Xtrain, ytrain), model2.score(Xtrain, ytrain), model3.score(Xtrain, ytrain)"
   ]
  },
  {
   "cell_type": "markdown",
   "metadata": {},
   "source": [
    "### Visualize The Results"
   ]
  },
  {
   "cell_type": "code",
   "execution_count": 20,
   "metadata": {},
   "outputs": [
    {
     "data": {
      "image/png": "[encoded data removed]",
      "text/plain": [
       "<Figure size 432x432 with 1 Axes>"
      ]
     },
     "metadata": {
      "needs_background": "light"
     },
     "output_type": "display_data"
    }
   ],
   "source": [
    "import matplotlib.pyplot as plt\n",
    "\n",
    "fig, ax = plt.subplots(figsize=(6,6));\n",
    "ax.set(title=\"Model Evaluation on Training Data\",\n",
    "        xlabel=\"Model\",\n",
    "        ylabel=\"Accuracy In (%)\")\n",
    "ax.bar([\"Multi. Naive Bayes\", \"Random Forest\", \"Linear SVC\"], [model1.score(Xtrain, ytrain) * 100, model2.score(Xtrain, ytrain) * 100, model3.score(Xtrain, ytrain) * 100]);\n",
    "\n",
    "fig.savefig(\"data/images/training_result.png\");"
   ]
  },
  {
   "cell_type": "markdown",
   "metadata": {},
   "source": [
    "### Save Trained Effective Model and Test Data"
   ]
  },
  {
   "cell_type": "code",
   "execution_count": 17,
   "metadata": {},
   "outputs": [],
   "source": [
    "import pickle"
   ]
  },
  {
   "cell_type": "code",
   "execution_count": 18,
   "metadata": {},
   "outputs": [],
   "source": [
    "m3 = open(\"data/models/model3.mod\", 'wb')\n",
    "pickle.dump(model3, m3)\n",
    "m3.close()\n",
    "\n",
    "\n",
    "## Save Test Data\n",
    "\n",
    "tX = open(\"data/tests/tx1\", 'wb')\n",
    "pickle.dump(Xtest, tX)\n",
    "tX.close()\n",
    "\n",
    "\n",
    "tY = open(\"data/tests/ty1\", 'wb')\n",
    "pickle.dump(ytest, tY)\n",
    "tY.close()\n",
    "\n",
    "\n",
    "## Save The Original Data\n",
    "\n",
    "XData = open(\"data/tests/X\", 'wb')\n",
    "pickle.dump(X_tfidf, XData)\n",
    "XData.close()\n",
    "\n",
    "\n",
    "YData = open(\"data/tests/Y\", 'wb')\n",
    "pickle.dump(y, YData)\n",
    "YData.close()\n",
    "\n",
    "\n",
    "## Save Count Vector\n",
    "\n",
    "CVData = open(\"data/tests/CVect\", 'wb')\n",
    "pickle.dump(count_vect, CVData)\n",
    "CVData.close()\n"
   ]
  },
  {
   "cell_type": "code",
   "execution_count": null,
   "metadata": {},
   "outputs": [],
   "source": []
  }
 ],
 "metadata": {
  "kernelspec": {
   "display_name": "Python 3",
   "language": "python",
   "name": "python3"
  },
  "language_info": {
   "codemirror_mode": {
    "name": "ipython",
    "version": 3
   },
   "file_extension": ".py",
   "mimetype": "text/x-python",
   "name": "python",
   "nbconvert_exporter": "python",
   "pygments_lexer": "ipython3",
   "version": "3.8.2"
  }
 },
 "nbformat": 4,
 "nbformat_minor": 4
}
